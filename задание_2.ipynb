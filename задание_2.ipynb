{
  "nbformat": 4,
  "nbformat_minor": 5,
  "metadata": {
    "kernelspec": {
      "display_name": "Python 3",
      "language": "python",
      "name": "python3"
    },
    "language_info": {
      "codemirror_mode": {
        "name": "ipython",
        "version": 3
      },
      "file_extension": ".py",
      "mimetype": "text/x-python",
      "name": "python",
      "nbconvert_exporter": "python",
      "pygments_lexer": "ipython3",
      "version": "3.7.3"
    },
    "colab": {
      "name": "задание_2.ipynb",
      "provenance": [],
      "include_colab_link": true
    }
  },
  "cells": [
    {
      "cell_type": "markdown",
      "metadata": {
        "id": "view-in-github",
        "colab_type": "text"
      },
      "source": [
        "<a href=\"https://colab.research.google.com/github/pyatibratova/karpov.courses/blob/main/%D0%B7%D0%B0%D0%B4%D0%B0%D0%BD%D0%B8%D0%B5_2.ipynb\" target=\"_parent\"><img src=\"https://colab.research.google.com/assets/colab-badge.svg\" alt=\"Open In Colab\"/></a>"
      ]
    },
    {
      "cell_type": "markdown",
      "metadata": {
        "id": "1KoOAH-laEAc"
      },
      "source": [
        "**Задание 2**   \n",
        "К вам поступила информация о числе заказов за прошедшие 3 месяца с разрешением по неделям. Постройте (если это возможно) прогноз продаж на следующие 3 месяца, с учётом того, что в неделю с 2020-02-02 по 2020-02-09 была проведена массивная акция, повысившая число заказов на 7%\n",
        "\n",
        "**Дата\tЧисло заказов**    \n",
        "    2020-01-05\t650  \n",
        "    2020-01-12\t837  \n",
        "    2020-01-19\t1020  \n",
        "    2020-01-26\t1176  \n",
        "    2020-02-02\t1489  \n",
        "    2020-02-09\t1823  \n",
        "    2020-02-16\t1991  \n",
        "    2020-02-23\t2166  \n",
        "    2020-03-01\t2334  \n",
        "    2020-03-08\t2607  \n",
        "    2020-03-15\t2734  \n",
        "    2020-03-22\t3492  \n",
        "    2020-03-29\t3608  \n",
        "    2020-04-05\t3857  "
      ],
      "id": "1KoOAH-laEAc"
    },
    {
      "cell_type": "code",
      "metadata": {
        "id": "tT8cQGcLaEAe"
      },
      "source": [
        "import pandas as pd\n",
        "import time\n",
        "import datetime\n",
        "import numpy as np\n",
        "import matplotlib.pyplot as plt\n",
        "from sklearn.linear_model import LinearRegression\n",
        "from sklearn.metrics import mean_squared_error, r2_score\n",
        "import seaborn as sns"
      ],
      "id": "tT8cQGcLaEAe",
      "execution_count": 20,
      "outputs": []
    },
    {
      "cell_type": "code",
      "metadata": {
        "colab": {
          "base_uri": "https://localhost:8080/",
          "height": 206
        },
        "id": "CofJK2gWaEAf",
        "outputId": "7f6c6daa-f533-42dc-937b-4af9aa3578e6"
      },
      "source": [
        "df = pd.read_csv(\"test2_completed.csv\")\n",
        "df.head()"
      ],
      "id": "CofJK2gWaEAf",
      "execution_count": 21,
      "outputs": [
        {
          "output_type": "execute_result",
          "data": {
            "text/html": [
              "<div>\n",
              "<style scoped>\n",
              "    .dataframe tbody tr th:only-of-type {\n",
              "        vertical-align: middle;\n",
              "    }\n",
              "\n",
              "    .dataframe tbody tr th {\n",
              "        vertical-align: top;\n",
              "    }\n",
              "\n",
              "    .dataframe thead th {\n",
              "        text-align: right;\n",
              "    }\n",
              "</style>\n",
              "<table border=\"1\" class=\"dataframe\">\n",
              "  <thead>\n",
              "    <tr style=\"text-align: right;\">\n",
              "      <th></th>\n",
              "      <th>Дата</th>\n",
              "      <th>Число заказов</th>\n",
              "    </tr>\n",
              "  </thead>\n",
              "  <tbody>\n",
              "    <tr>\n",
              "      <th>0</th>\n",
              "      <td>2020-01-05</td>\n",
              "      <td>650</td>\n",
              "    </tr>\n",
              "    <tr>\n",
              "      <th>1</th>\n",
              "      <td>2020-01-12</td>\n",
              "      <td>837</td>\n",
              "    </tr>\n",
              "    <tr>\n",
              "      <th>2</th>\n",
              "      <td>2020-01-19</td>\n",
              "      <td>1020</td>\n",
              "    </tr>\n",
              "    <tr>\n",
              "      <th>3</th>\n",
              "      <td>2020-01-26</td>\n",
              "      <td>1176</td>\n",
              "    </tr>\n",
              "    <tr>\n",
              "      <th>4</th>\n",
              "      <td>2020-02-02</td>\n",
              "      <td>1489</td>\n",
              "    </tr>\n",
              "  </tbody>\n",
              "</table>\n",
              "</div>"
            ],
            "text/plain": [
              "         Дата  Число заказов\n",
              "0  2020-01-05            650\n",
              "1  2020-01-12            837\n",
              "2  2020-01-19           1020\n",
              "3  2020-01-26           1176\n",
              "4  2020-02-02           1489"
            ]
          },
          "metadata": {},
          "execution_count": 21
        }
      ]
    },
    {
      "cell_type": "code",
      "metadata": {
        "colab": {
          "base_uri": "https://localhost:8080/"
        },
        "id": "GoA0WMsVaEAf",
        "outputId": "9a9436de-daef-4d7e-83ac-3f74b7c84feb"
      },
      "source": [
        "df.info()"
      ],
      "id": "GoA0WMsVaEAf",
      "execution_count": 22,
      "outputs": [
        {
          "output_type": "stream",
          "name": "stdout",
          "text": [
            "<class 'pandas.core.frame.DataFrame'>\n",
            "RangeIndex: 14 entries, 0 to 13\n",
            "Data columns (total 2 columns):\n",
            " #   Column         Non-Null Count  Dtype \n",
            "---  ------         --------------  ----- \n",
            " 0   Дата           14 non-null     object\n",
            " 1   Число заказов  14 non-null     int64 \n",
            "dtypes: int64(1), object(1)\n",
            "memory usage: 352.0+ bytes\n"
          ]
        }
      ]
    },
    {
      "cell_type": "code",
      "metadata": {
        "id": "QWbdTkG0aEAg"
      },
      "source": [
        "df['Дата'] = pd.to_datetime(df['Дата'])\n",
        "df['ts'] = df[['Дата']].apply(lambda x: x[0].timestamp(), axis=1).astype(int)\n"
      ],
      "id": "QWbdTkG0aEAg",
      "execution_count": 23,
      "outputs": []
    },
    {
      "cell_type": "markdown",
      "metadata": {
        "id": "DqEh45LfaEAg"
      },
      "source": [
        "**Исключим недели, проведения акции**"
      ],
      "id": "DqEh45LfaEAg"
    },
    {
      "cell_type": "code",
      "metadata": {
        "id": "LSkiNMeTaEAg"
      },
      "source": [
        "df = df.loc[~df['Дата'].isin([1580601600, 1581206400])]"
      ],
      "id": "LSkiNMeTaEAg",
      "execution_count": 24,
      "outputs": []
    },
    {
      "cell_type": "markdown",
      "metadata": {
        "id": "rasymSvBaEAg"
      },
      "source": [
        "**Нам нужно спрогнозировать продажи на ближайшие 3 месяца**"
      ],
      "id": "rasymSvBaEAg"
    },
    {
      "cell_type": "code",
      "metadata": {
        "id": "H_cIQxEuaEAh"
      },
      "source": [
        "new_date = ['2020-04-12','2020-04-19','2020-04-26','2020-05-03',\n",
        "     '2020-05-10','2020-05-17','2020-05-24','2020-05-31',\n",
        "     '2020-06-07','2020-06-14','2020-06-21','2020-06-28',\n",
        "     '2020-07-05']\n",
        "#date_ = new_date"
      ],
      "id": "H_cIQxEuaEAh",
      "execution_count": 25,
      "outputs": []
    },
    {
      "cell_type": "code",
      "metadata": {
        "id": "R3ZnglvxaEAh"
      },
      "source": [
        "new_date = [int(time.mktime(datetime.datetime.strptime(i , '%Y-%m-%d').timetuple())) for i in new_date]\n",
        "new_date = np.array(new_date).reshape(13,1)"
      ],
      "id": "R3ZnglvxaEAh",
      "execution_count": 26,
      "outputs": []
    },
    {
      "cell_type": "markdown",
      "metadata": {
        "id": "9DpgQzT1aEAh"
      },
      "source": [
        "**Для решения задачи будем использовать модель линейной регрессии**"
      ],
      "id": "9DpgQzT1aEAh"
    },
    {
      "cell_type": "code",
      "metadata": {
        "id": "oah_aCg2aEAh"
      },
      "source": [
        "x = df.ts.values.reshape(-1,1)\n",
        "y = df[\"Число заказов\"].values.reshape(-1,1)\n",
        "model = LinearRegression().fit(x, y)"
      ],
      "id": "oah_aCg2aEAh",
      "execution_count": 28,
      "outputs": []
    },
    {
      "cell_type": "markdown",
      "metadata": {
        "id": "-Cy3oN5xaEAh"
      },
      "source": [
        "**Проверяем модель**"
      ],
      "id": "-Cy3oN5xaEAh"
    },
    {
      "cell_type": "code",
      "metadata": {
        "colab": {
          "base_uri": "https://localhost:8080/"
        },
        "id": "LCo7ObA9aEAi",
        "outputId": "ee3bca75-28af-49d6-b507-50c390558940"
      },
      "source": [
        "r_sq = model.score(x, y)\n",
        "r_sq"
      ],
      "id": "LCo7ObA9aEAi",
      "execution_count": 29,
      "outputs": [
        {
          "output_type": "execute_result",
          "data": {
            "text/plain": [
              "0.9825538022955228"
            ]
          },
          "metadata": {},
          "execution_count": 29
        }
      ]
    },
    {
      "cell_type": "code",
      "metadata": {
        "colab": {
          "base_uri": "https://localhost:8080/"
        },
        "id": "LHbrQV49aEAi",
        "outputId": "1916029b-b353-4e2a-c065-fbd6bd381268"
      },
      "source": [
        "print (model.intercept_, model.coef_)"
      ],
      "id": "LHbrQV49aEAi",
      "execution_count": 30,
      "outputs": [
        {
          "output_type": "stream",
          "name": "stdout",
          "text": [
            "[-645381.00973312] [[0.00040927]]\n"
          ]
        }
      ]
    },
    {
      "cell_type": "code",
      "metadata": {
        "id": "iR-gAbnuaEAi"
      },
      "source": [
        "y_predicted = model.predict(x)\n",
        "y_predicted_new = model.predict(new_date)"
      ],
      "id": "iR-gAbnuaEAi",
      "execution_count": 31,
      "outputs": []
    },
    {
      "cell_type": "code",
      "metadata": {
        "colab": {
          "base_uri": "https://localhost:8080/",
          "height": 279
        },
        "id": "j-lbfukZaEAi",
        "outputId": "2779ccfe-aeee-4de4-baf6-b166f2696cf0"
      },
      "source": [
        "plt.scatter(x, y)\n",
        "plt.xlabel('x')\n",
        "plt.ylabel('y')\n",
        "\n",
        "plt.plot(x, y_predicted, color='r')\n",
        "plt.plot(new_date, y_predicted_new, color='b')\n",
        "plt.show()"
      ],
      "id": "j-lbfukZaEAi",
      "execution_count": 32,
      "outputs": [
        {
          "output_type": "display_data",
          "data": {
            "image/png": "[encoded data removed]",
            "text/plain": [
              "<Figure size 432x288 with 1 Axes>"
            ]
          },
          "metadata": {
            "needs_background": "light"
          }
        }
      ]
    },
    {
      "cell_type": "markdown",
      "metadata": {
        "id": "F673RvxMaEAj"
      },
      "source": [
        "**Вывод:**     \n",
        " Согласно линейной регрессии, видна тенденция к росту количества заказов.        \n",
        "Но нам даны данные за слишком короткий промежуток времени. Плюс мы убрали недели с акциями. Поэтому мы не можем точно прогнозировать рост заказов.\n"
      ],
      "id": "F673RvxMaEAj"
    }
  ]
}