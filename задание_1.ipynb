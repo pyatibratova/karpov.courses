{
  "nbformat": 4,
  "nbformat_minor": 0,
  "metadata": {
    "kernelspec": {
      "display_name": "Python 3",
      "language": "python",
      "name": "python3"
    },
    "language_info": {
      "codemirror_mode": {
        "name": "ipython",
        "version": 3
      },
      "file_extension": ".py",
      "mimetype": "text/x-python",
      "name": "python",
      "nbconvert_exporter": "python",
      "pygments_lexer": "ipython3",
      "version": "3.7.3"
    },
    "colab": {
      "name": "задание_1.ipynb",
      "provenance": [],
      "include_colab_link": true
    }
  },
  "cells": [
    {
      "cell_type": "markdown",
      "metadata": {
        "id": "view-in-github",
        "colab_type": "text"
      },
      "source": [
        "<a href=\"https://colab.research.google.com/github/pyatibratova/karpov.courses/blob/main/%D0%B7%D0%B0%D0%B4%D0%B0%D0%BD%D0%B8%D0%B5_1.ipynb\" target=\"_parent\"><img src=\"https://colab.research.google.com/assets/colab-badge.svg\" alt=\"Open In Colab\"/></a>"
      ]
    },
    {
      "cell_type": "markdown",
      "metadata": {
        "id": "jRcRucS7A6jL"
      },
      "source": [
        "**Выясните, какие пары товаров пользователи чаще всего покупают вместе. По сути, вам необходимо найти паттерны покупок, что позволит оптимизировать размещение продуктов в магазине, для удобства пользователей и увеличения выручки.**\n",
        "      \n",
        "id – означает покупку (в одну покупку входят все товары, купленные пользователем во время 1 похода в магазин)         \n",
        "Товар – наименование товара      \n",
        "Количество – число единиц купленного товара    \n",
        "           \n",
        "Воспользуйтесь этими данными и выясните, какие пары товаров пользователи чаще всего покупают вместе.        \n",
        "        \n",
        "Встречаемость – число раз, когда такая пара была встречена\n",
        "Другими словами: 2 раза люди покупали одновременно чай и арбуз, 1 раз одновременно покупали арбуз и сгущёнку и 1 раз одновременно были куплены чай со сгущёнкой.           \n",
        "          \n",
        "Напишите код на python для получения нужной таблицы и укажите 5 наиболее распространённых паттернов.    "
      ]
    },
    {
      "cell_type": "code",
      "metadata": {
        "colab": {
          "base_uri": "https://localhost:8080/",
          "height": 206
        },
        "id": "v3d1BA86A6jP",
        "outputId": "12f48d7f-d02e-4fd6-8462-e9dedc3a9f1c"
      },
      "source": [
        "import pandas as pd\n",
        "import itertools\n",
        "\n",
        "url = \"test1_completed.csv\"\n",
        "df = pd.read_csv(url)\n",
        "df.head()"
      ],
      "execution_count": 64,
      "outputs": [
        {
          "output_type": "execute_result",
          "data": {
            "text/html": [
              "<div>\n",
              "<style scoped>\n",
              "    .dataframe tbody tr th:only-of-type {\n",
              "        vertical-align: middle;\n",
              "    }\n",
              "\n",
              "    .dataframe tbody tr th {\n",
              "        vertical-align: top;\n",
              "    }\n",
              "\n",
              "    .dataframe thead th {\n",
              "        text-align: right;\n",
              "    }\n",
              "</style>\n",
              "<table border=\"1\" class=\"dataframe\">\n",
              "  <thead>\n",
              "    <tr style=\"text-align: right;\">\n",
              "      <th></th>\n",
              "      <th>id</th>\n",
              "      <th>Товар</th>\n",
              "      <th>Количество</th>\n",
              "    </tr>\n",
              "  </thead>\n",
              "  <tbody>\n",
              "    <tr>\n",
              "      <th>0</th>\n",
              "      <td>17119</td>\n",
              "      <td>Лимон</td>\n",
              "      <td>1.1</td>\n",
              "    </tr>\n",
              "    <tr>\n",
              "      <th>1</th>\n",
              "      <td>17119</td>\n",
              "      <td>Лимон оранжевый</td>\n",
              "      <td>0.7</td>\n",
              "    </tr>\n",
              "    <tr>\n",
              "      <th>2</th>\n",
              "      <td>17119</td>\n",
              "      <td>Лук-порей</td>\n",
              "      <td>10.0</td>\n",
              "    </tr>\n",
              "    <tr>\n",
              "      <th>3</th>\n",
              "      <td>17119</td>\n",
              "      <td>Лук репчатый</td>\n",
              "      <td>2.5</td>\n",
              "    </tr>\n",
              "    <tr>\n",
              "      <th>4</th>\n",
              "      <td>17119</td>\n",
              "      <td>Малина свежая</td>\n",
              "      <td>1.0</td>\n",
              "    </tr>\n",
              "  </tbody>\n",
              "</table>\n",
              "</div>"
            ],
            "text/plain": [
              "      id            Товар  Количество\n",
              "0  17119            Лимон         1.1\n",
              "1  17119  Лимон оранжевый         0.7\n",
              "2  17119        Лук-порей        10.0\n",
              "3  17119     Лук репчатый         2.5\n",
              "4  17119    Малина свежая         1.0"
            ]
          },
          "metadata": {},
          "execution_count": 64
        }
      ]
    },
    {
      "cell_type": "code",
      "metadata": {
        "colab": {
          "base_uri": "https://localhost:8080/"
        },
        "id": "acAck3GqCCwV",
        "outputId": "54594231-10fb-4339-f591-5aab07bbbcdb"
      },
      "source": [
        "df.info()"
      ],
      "execution_count": 65,
      "outputs": [
        {
          "output_type": "stream",
          "name": "stdout",
          "text": [
            "<class 'pandas.core.frame.DataFrame'>\n",
            "RangeIndex: 43514 entries, 0 to 43513\n",
            "Data columns (total 3 columns):\n",
            " #   Column      Non-Null Count  Dtype  \n",
            "---  ------      --------------  -----  \n",
            " 0   id          43514 non-null  int64  \n",
            " 1   Товар       43514 non-null  object \n",
            " 2   Количество  43514 non-null  float64\n",
            "dtypes: float64(1), int64(1), object(1)\n",
            "memory usage: 1020.0+ KB\n"
          ]
        }
      ]
    },
    {
      "cell_type": "code",
      "metadata": {
        "colab": {
          "base_uri": "https://localhost:8080/"
        },
        "id": "x2NuTG4FCKOV",
        "outputId": "097da8a7-3dfb-40fe-be2a-69c7a43e0b80"
      },
      "source": [
        "df['Товар'].nunique()"
      ],
      "execution_count": 66,
      "outputs": [
        {
          "output_type": "execute_result",
          "data": {
            "text/plain": [
              "199"
            ]
          },
          "metadata": {},
          "execution_count": 66
        }
      ]
    },
    {
      "cell_type": "markdown",
      "metadata": {
        "id": "fZWh6v5JCg09"
      },
      "source": [
        "В магазине предоставлено 199 уникальных товаров. Наша задача найти комбинации самых популярных пар и вывести их частоту покупок."
      ]
    },
    {
      "cell_type": "code",
      "metadata": {
        "id": "IcsIBQCxA6jQ"
      },
      "source": [
        "results = []\n",
        "X = {}\n",
        "for i in df.id.unique():\n",
        "    product = df[df.id == i]['Товар'].to_list()\n",
        "    product.sort()\n",
        "    for j in list(itertools.combinations(product, 2)):\n",
        "        X[j] = X.get(j, 0) + 1 "
      ],
      "execution_count": 67,
      "outputs": []
    },
    {
      "cell_type": "code",
      "metadata": {
        "id": "kg_5FxE_A6jR"
      },
      "source": [
        "sort_x = sorted(X.items(), key=lambda x: x[1], reverse=True)"
      ],
      "execution_count": 68,
      "outputs": []
    },
    {
      "cell_type": "code",
      "metadata": {
        "colab": {
          "base_uri": "https://localhost:8080/",
          "height": 206
        },
        "id": "3jAf33gwA6jR",
        "outputId": "0e4697fe-8f68-4b53-9fde-6a0460066332"
      },
      "source": [
        "# преобразуем полученные данные в таблицу\n",
        "data = pd.DataFrame.from_dict(sort_x)\n",
        "data.columns = ['pair', 'count']\n",
        "data.head()"
      ],
      "execution_count": 69,
      "outputs": [
        {
          "output_type": "execute_result",
          "data": {
            "text/html": [
              "<div>\n",
              "<style scoped>\n",
              "    .dataframe tbody tr th:only-of-type {\n",
              "        vertical-align: middle;\n",
              "    }\n",
              "\n",
              "    .dataframe tbody tr th {\n",
              "        vertical-align: top;\n",
              "    }\n",
              "\n",
              "    .dataframe thead th {\n",
              "        text-align: right;\n",
              "    }\n",
              "</style>\n",
              "<table border=\"1\" class=\"dataframe\">\n",
              "  <thead>\n",
              "    <tr style=\"text-align: right;\">\n",
              "      <th></th>\n",
              "      <th>pair</th>\n",
              "      <th>count</th>\n",
              "    </tr>\n",
              "  </thead>\n",
              "  <tbody>\n",
              "    <tr>\n",
              "      <th>0</th>\n",
              "      <td>(Огурцы Луховицкие, Укроп)</td>\n",
              "      <td>431</td>\n",
              "    </tr>\n",
              "    <tr>\n",
              "      <th>1</th>\n",
              "      <td>(Петрушка, Укроп)</td>\n",
              "      <td>408</td>\n",
              "    </tr>\n",
              "    <tr>\n",
              "      <th>2</th>\n",
              "      <td>(Арбуз, Огурцы Луховицкие)</td>\n",
              "      <td>345</td>\n",
              "    </tr>\n",
              "    <tr>\n",
              "      <th>3</th>\n",
              "      <td>(Кабачки, Огурцы Луховицкие)</td>\n",
              "      <td>326</td>\n",
              "    </tr>\n",
              "    <tr>\n",
              "      <th>4</th>\n",
              "      <td>(Кинза, Укроп)</td>\n",
              "      <td>303</td>\n",
              "    </tr>\n",
              "  </tbody>\n",
              "</table>\n",
              "</div>"
            ],
            "text/plain": [
              "                           pair  count\n",
              "0    (Огурцы Луховицкие, Укроп)    431\n",
              "1             (Петрушка, Укроп)    408\n",
              "2    (Арбуз, Огурцы Луховицкие)    345\n",
              "3  (Кабачки, Огурцы Луховицкие)    326\n",
              "4                (Кинза, Укроп)    303"
            ]
          },
          "metadata": {},
          "execution_count": 69
        }
      ]
    },
    {
      "cell_type": "code",
      "metadata": {
        "colab": {
          "base_uri": "https://localhost:8080/",
          "height": 206
        },
        "id": "a9s6hvtbA6jS",
        "outputId": "b3bb9a05-4ead-40fb-8f6f-03fb3bba61bf"
      },
      "source": [
        "data['pair'] = [(str(val).replace('(', '').replace(')', '').replace('\\'', '')) for val in data['pair']]\n",
        "data.head()"
      ],
      "execution_count": 71,
      "outputs": [
        {
          "output_type": "execute_result",
          "data": {
            "text/html": [
              "<div>\n",
              "<style scoped>\n",
              "    .dataframe tbody tr th:only-of-type {\n",
              "        vertical-align: middle;\n",
              "    }\n",
              "\n",
              "    .dataframe tbody tr th {\n",
              "        vertical-align: top;\n",
              "    }\n",
              "\n",
              "    .dataframe thead th {\n",
              "        text-align: right;\n",
              "    }\n",
              "</style>\n",
              "<table border=\"1\" class=\"dataframe\">\n",
              "  <thead>\n",
              "    <tr style=\"text-align: right;\">\n",
              "      <th></th>\n",
              "      <th>pair</th>\n",
              "      <th>count</th>\n",
              "    </tr>\n",
              "  </thead>\n",
              "  <tbody>\n",
              "    <tr>\n",
              "      <th>0</th>\n",
              "      <td>Огурцы Луховицкие, Укроп</td>\n",
              "      <td>431</td>\n",
              "    </tr>\n",
              "    <tr>\n",
              "      <th>1</th>\n",
              "      <td>Петрушка, Укроп</td>\n",
              "      <td>408</td>\n",
              "    </tr>\n",
              "    <tr>\n",
              "      <th>2</th>\n",
              "      <td>Арбуз, Огурцы Луховицкие</td>\n",
              "      <td>345</td>\n",
              "    </tr>\n",
              "    <tr>\n",
              "      <th>3</th>\n",
              "      <td>Кабачки, Огурцы Луховицкие</td>\n",
              "      <td>326</td>\n",
              "    </tr>\n",
              "    <tr>\n",
              "      <th>4</th>\n",
              "      <td>Кинза, Укроп</td>\n",
              "      <td>303</td>\n",
              "    </tr>\n",
              "  </tbody>\n",
              "</table>\n",
              "</div>"
            ],
            "text/plain": [
              "                         pair  count\n",
              "0    Огурцы Луховицкие, Укроп    431\n",
              "1             Петрушка, Укроп    408\n",
              "2    Арбуз, Огурцы Луховицкие    345\n",
              "3  Кабачки, Огурцы Луховицкие    326\n",
              "4                Кинза, Укроп    303"
            ]
          },
          "metadata": {},
          "execution_count": 71
        }
      ]
    },
    {
      "cell_type": "code",
      "metadata": {
        "colab": {
          "base_uri": "https://localhost:8080/",
          "height": 206
        },
        "id": "hyQ7FxV1A6jS",
        "outputId": "b557c5b4-3878-4bf1-e556-7055a7080881"
      },
      "source": [
        "pattern = data['pair'].str.split(',',expand=True)\n",
        "pattern[\"count\"] = data[\"count\"] \n",
        "pattern = pattern.drop(pattern.columns[[2, 3] ],axis=1)\n",
        "pattern.columns = ['Товар_1', 'Товар_2', 'Встречаемость']\n",
        "pattern.head(5)"
      ],
      "execution_count": 77,
      "outputs": [
        {
          "output_type": "execute_result",
          "data": {
            "text/html": [
              "<div>\n",
              "<style scoped>\n",
              "    .dataframe tbody tr th:only-of-type {\n",
              "        vertical-align: middle;\n",
              "    }\n",
              "\n",
              "    .dataframe tbody tr th {\n",
              "        vertical-align: top;\n",
              "    }\n",
              "\n",
              "    .dataframe thead th {\n",
              "        text-align: right;\n",
              "    }\n",
              "</style>\n",
              "<table border=\"1\" class=\"dataframe\">\n",
              "  <thead>\n",
              "    <tr style=\"text-align: right;\">\n",
              "      <th></th>\n",
              "      <th>Товар_1</th>\n",
              "      <th>Товар_2</th>\n",
              "      <th>Встречаемость</th>\n",
              "    </tr>\n",
              "  </thead>\n",
              "  <tbody>\n",
              "    <tr>\n",
              "      <th>0</th>\n",
              "      <td>Огурцы Луховицкие</td>\n",
              "      <td>Укроп</td>\n",
              "      <td>431</td>\n",
              "    </tr>\n",
              "    <tr>\n",
              "      <th>1</th>\n",
              "      <td>Петрушка</td>\n",
              "      <td>Укроп</td>\n",
              "      <td>408</td>\n",
              "    </tr>\n",
              "    <tr>\n",
              "      <th>2</th>\n",
              "      <td>Арбуз</td>\n",
              "      <td>Огурцы Луховицкие</td>\n",
              "      <td>345</td>\n",
              "    </tr>\n",
              "    <tr>\n",
              "      <th>3</th>\n",
              "      <td>Кабачки</td>\n",
              "      <td>Огурцы Луховицкие</td>\n",
              "      <td>326</td>\n",
              "    </tr>\n",
              "    <tr>\n",
              "      <th>4</th>\n",
              "      <td>Кинза</td>\n",
              "      <td>Укроп</td>\n",
              "      <td>303</td>\n",
              "    </tr>\n",
              "  </tbody>\n",
              "</table>\n",
              "</div>"
            ],
            "text/plain": [
              "             Товар_1             Товар_2  Встречаемость\n",
              "0  Огурцы Луховицкие               Укроп            431\n",
              "1           Петрушка               Укроп            408\n",
              "2              Арбуз   Огурцы Луховицкие            345\n",
              "3            Кабачки   Огурцы Луховицкие            326\n",
              "4              Кинза               Укроп            303"
            ]
          },
          "metadata": {},
          "execution_count": 77
        }
      ]
    },
    {
      "cell_type": "markdown",
      "metadata": {
        "id": "mC1bPHd1A6jT"
      },
      "source": [
        "**Вывод**         \n",
        "Нам не известно, за какой период времени получены данные о покупках. \n",
        "Поэтому сделаем предположение, что в период июль - сентябрь.\n",
        "Тогда понятно, почему люди покупают много зелени, огурцов и арбузы."
      ]
    },
    {
      "cell_type": "code",
      "metadata": {
        "id": "Eas7A13dA6jT"
      },
      "source": [
        ""
      ],
      "execution_count": 72,
      "outputs": []
    }
  ]
}