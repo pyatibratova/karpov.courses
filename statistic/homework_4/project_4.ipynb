{
 "cells": [
  {
   "cell_type": "markdown",
   "metadata": {},
   "source": [
    "Представьте, что вы работаете аналитиком в очень крупной компании по доставке пиццы над приложением для курьеров (да, обычно в таких компаниях есть приложение для курьеров и отдельно приложение для потребителей).\n",
    "\n",
    "У вас есть несколько ресторанов в разных частях города и целый штат курьеров. Но есть одна проблема, к вечеру скорость доставки падает из-за того, что курьеры уходят домой после рабочего дня, а количество заказов лишь растет. Это приводит к тому, что в момент пересмены наша доставка очень сильно проседает в эффективности. \n",
    "\n",
    "Наши data scientist-ы придумали новый алгоритм, который позволяет курьерам запланировать свои последние заказы перед окончанием рабочего дня так, чтобы их маршрут доставки совпадал с маршрутом до дома. То есть, чтобы курьеры доставляли последние свои заказы за день как бы \"по пути\" домой. \n",
    "\n",
    "Вы вместе с командой решили раскатить A/B тест на две равные группы курьеров. Часть курьеров использует старый алгоритм без опции \"по пути\", другие видят в своем приложении эту опцию и могут ее выбрать. Ваша задача – проанализировать данные эксперимента и помочь бизнесу принять решение о раскатке новой фичи на всех курьеров.\n",
    "\n",
    "Данные https://stepik.org/media/attachments/lesson/385916/experiment_lesson_4.csv   \n",
    "\n",
    "Описание данных\n",
    "- order_id - id заказа\n",
    "- delivery_time - время доставки в минутах\n",
    "- district - район доставки\n",
    "- experiment_group - экспериментальная группа"
   ]
  },
  {
   "cell_type": "markdown",
   "metadata": {},
   "source": [
    "1. **Для начала давайте сформулируем гипотезы для проверки. Выберите гипотезы, которые мы сможем проверить в этом эксперименте:**\n",
    "Выберите все подходящие ответы из списка\n",
    "\n",
    "    Альтернативная гипотеза (H1): Разницы между средним временем доставки в тестовой и контрольной нет\n",
    "    **Нулевая гипотеза (H0): Разницы между средним временем доставки в тестовой и контрольной группе нет**\n",
    "\n",
    "    Нулевая гипотеза (H0): Разница между средним временем доставки в тестовой и контрольной группе есть\n",
    "\n",
    "    Альтернативная гипотеза (H1): Изменение алгоритма влияет на скорость доставки\n",
    "\n",
    "    Нулевая гипотеза (H0): Изменение алгоритма не влияет на скорость доставки\n",
    "\n",
    "    **Альтернативная гипотеза (H1): Разница между средним временем доставки в тестовой и контрольной группе есть**\n"
   ]
  },
  {
   "cell_type": "code",
   "execution_count": 13,
   "metadata": {},
   "outputs": [
    {
     "data": {
      "text/html": [
       "<div>\n",
       "<style scoped>\n",
       "    .dataframe tbody tr th:only-of-type {\n",
       "        vertical-align: middle;\n",
       "    }\n",
       "\n",
       "    .dataframe tbody tr th {\n",
       "        vertical-align: top;\n",
       "    }\n",
       "\n",
       "    .dataframe thead th {\n",
       "        text-align: right;\n",
       "    }\n",
       "</style>\n",
       "<table border=\"1\" class=\"dataframe\">\n",
       "  <thead>\n",
       "    <tr style=\"text-align: right;\">\n",
       "      <th></th>\n",
       "      <th>order_id</th>\n",
       "      <th>delivery_time</th>\n",
       "      <th>district</th>\n",
       "      <th>experiment_group</th>\n",
       "    </tr>\n",
       "  </thead>\n",
       "  <tbody>\n",
       "    <tr>\n",
       "      <th>0</th>\n",
       "      <td>3159</td>\n",
       "      <td>44.0</td>\n",
       "      <td>Purlieus</td>\n",
       "      <td>control</td>\n",
       "    </tr>\n",
       "    <tr>\n",
       "      <th>1</th>\n",
       "      <td>10426</td>\n",
       "      <td>51.0</td>\n",
       "      <td>Purlieus</td>\n",
       "      <td>control</td>\n",
       "    </tr>\n",
       "    <tr>\n",
       "      <th>2</th>\n",
       "      <td>9155</td>\n",
       "      <td>46.0</td>\n",
       "      <td>Purlieus</td>\n",
       "      <td>control</td>\n",
       "    </tr>\n",
       "    <tr>\n",
       "      <th>3</th>\n",
       "      <td>10699</td>\n",
       "      <td>34.0</td>\n",
       "      <td>Purlieus</td>\n",
       "      <td>control</td>\n",
       "    </tr>\n",
       "    <tr>\n",
       "      <th>4</th>\n",
       "      <td>10061</td>\n",
       "      <td>43.0</td>\n",
       "      <td>Purlieus</td>\n",
       "      <td>control</td>\n",
       "    </tr>\n",
       "    <tr>\n",
       "      <th>5</th>\n",
       "      <td>5535</td>\n",
       "      <td>38.0</td>\n",
       "      <td>Purlieus</td>\n",
       "      <td>control</td>\n",
       "    </tr>\n",
       "    <tr>\n",
       "      <th>6</th>\n",
       "      <td>5793</td>\n",
       "      <td>43.0</td>\n",
       "      <td>Purlieus</td>\n",
       "      <td>control</td>\n",
       "    </tr>\n",
       "    <tr>\n",
       "      <th>7</th>\n",
       "      <td>3756</td>\n",
       "      <td>36.0</td>\n",
       "      <td>Purlieus</td>\n",
       "      <td>control</td>\n",
       "    </tr>\n",
       "    <tr>\n",
       "      <th>8</th>\n",
       "      <td>3394</td>\n",
       "      <td>57.0</td>\n",
       "      <td>Purlieus</td>\n",
       "      <td>control</td>\n",
       "    </tr>\n",
       "    <tr>\n",
       "      <th>9</th>\n",
       "      <td>1937</td>\n",
       "      <td>48.0</td>\n",
       "      <td>Purlieus</td>\n",
       "      <td>control</td>\n",
       "    </tr>\n",
       "  </tbody>\n",
       "</table>\n",
       "</div>"
      ],
      "text/plain": [
       "   order_id  delivery_time  district experiment_group\n",
       "0      3159           44.0  Purlieus          control\n",
       "1     10426           51.0  Purlieus          control\n",
       "2      9155           46.0  Purlieus          control\n",
       "3     10699           34.0  Purlieus          control\n",
       "4     10061           43.0  Purlieus          control\n",
       "5      5535           38.0  Purlieus          control\n",
       "6      5793           43.0  Purlieus          control\n",
       "7      3756           36.0  Purlieus          control\n",
       "8      3394           57.0  Purlieus          control\n",
       "9      1937           48.0  Purlieus          control"
      ]
     },
     "execution_count": 13,
     "metadata": {},
     "output_type": "execute_result"
    }
   ],
   "source": [
    "#загузка используемых библиотек\n",
    "import pandas as pd\n",
    "import numpy as np\n",
    "import scipy \n",
    "import seaborn as sns\n",
    "from scipy import stats\n",
    "%matplotlib inline\n",
    "\n",
    "url = 'https://stepik.org/media/attachments/lesson/385916/experiment_lesson_4.csv'\n",
    "df = pd.read_csv(url)\n",
    "df.head(10)"
   ]
  },
  {
   "cell_type": "markdown",
   "metadata": {},
   "source": [
    "2. Сопоставьте графики распределения и  экспериментальные группы:"
   ]
  },
  {
   "cell_type": "code",
   "execution_count": 14,
   "metadata": {},
   "outputs": [
    {
     "data": {
      "text/plain": [
       "district\n",
       "Central     AxesSubplot(0.125,0.125;0.775x0.755)\n",
       "Purlieus    AxesSubplot(0.125,0.125;0.775x0.755)\n",
       "Suburb      AxesSubplot(0.125,0.125;0.775x0.755)\n",
       "Name: delivery_time, dtype: object"
      ]
     },
     "execution_count": 14,
     "metadata": {},
     "output_type": "execute_result"
    },
    {
     "data": {
      "image/png": "[encoded data removed]",
      "text/plain": [
       "<Figure size 432x288 with 1 Axes>"
      ]
     },
     "metadata": {
      "needs_background": "light"
     },
     "output_type": "display_data"
    }
   ],
   "source": [
    "df.query('experiment_group == \"control\"').groupby('district').delivery_time.hist()"
   ]
  },
  {
   "cell_type": "code",
   "execution_count": 15,
   "metadata": {},
   "outputs": [
    {
     "data": {
      "text/plain": [
       "district\n",
       "Central     AxesSubplot(0.125,0.125;0.775x0.755)\n",
       "Purlieus    AxesSubplot(0.125,0.125;0.775x0.755)\n",
       "Suburb      AxesSubplot(0.125,0.125;0.775x0.755)\n",
       "Name: delivery_time, dtype: object"
      ]
     },
     "execution_count": 15,
     "metadata": {},
     "output_type": "execute_result"
    },
    {
     "data": {
      "image/png": "[encoded data removed]",
      "text/plain": [
       "<Figure size 432x288 with 1 Axes>"
      ]
     },
     "metadata": {
      "needs_background": "light"
     },
     "output_type": "display_data"
    }
   ],
   "source": [
    "df.query('experiment_group == \"test\"').groupby('district').delivery_time.hist()"
   ]
  },
  {
   "cell_type": "markdown",
   "metadata": {},
   "source": [
    "3. Посчитайте количество наблюдений в тестовой и контрольной группе.   \n",
    "На сколько по модулю отличается количество наблюдений в тесте и контроле?  "
   ]
  },
  {
   "cell_type": "code",
   "execution_count": 16,
   "metadata": {},
   "outputs": [
    {
     "name": "stdout",
     "output_type": "stream",
     "text": [
      "experiment_group\n",
      "control    10092\n",
      "test       10104\n",
      "Name: order_id, dtype: int64\n",
      "12\n"
     ]
    }
   ],
   "source": [
    "cnt = df.groupby('experiment_group').order_id.count()\n",
    "print(cnt)\n",
    "print(cnt[1] - cnt[0])"
   ]
  },
  {
   "cell_type": "markdown",
   "metadata": {},
   "source": [
    "4. Теперь давайте изучим наши распределения.   \n",
    "Проверим выполнение условий на нормальность и посчитаем стандартное отклонение в тесте и в контроле.  \n",
    "\n",
    "Обязательно сделайте семплирование перед применением критерия при проверке на нормальность (и для теста, и для контроля),   \n",
    "так как на больших выборках вы можете получать неверные результаты:   \n",
    "\n",
    "experiment[experiment['experiment_group'] == 'test']['delivery_time'].sample(1000, random_state=17)  \n",
    "Заполните пропуски ниже:"
   ]
  },
  {
   "cell_type": "code",
   "execution_count": 24,
   "metadata": {},
   "outputs": [
    {
     "data": {
      "text/plain": [
       "(0.9975479245185852, 0.14013493061065674)"
      ]
     },
     "execution_count": 24,
     "metadata": {},
     "output_type": "execute_result"
    }
   ],
   "source": [
    "# Берем не всю выборку, а 1000 значений из нее, если наше распределение нормальное, то и выборка будет нормальной\n",
    "# random_state=17 позволяет сделать наши результаты более стабильными\n",
    "stats.shapiro(df.query('experiment_group  == \"test\"').delivery_time.sample(1000, random_state=17))"
   ]
  },
  {
   "cell_type": "code",
   "execution_count": 18,
   "metadata": {},
   "outputs": [
    {
     "data": {
      "text/plain": [
       "(0.9974725842475891, 0.12411931157112122)"
      ]
     },
     "execution_count": 18,
     "metadata": {},
     "output_type": "execute_result"
    }
   ],
   "source": [
    "stats.shapiro(df.query('experiment_group  == \"control\"').delivery_time.sample(1000, random_state=17))"
   ]
  },
  {
   "cell_type": "code",
   "execution_count": 19,
   "metadata": {},
   "outputs": [
    {
     "data": {
      "text/plain": [
       "9.88"
      ]
     },
     "execution_count": 19,
     "metadata": {},
     "output_type": "execute_result"
    }
   ],
   "source": [
    "round(df.query('experiment_group  == \"test\"').delivery_time.std(), 2)"
   ]
  },
  {
   "cell_type": "code",
   "execution_count": 20,
   "metadata": {},
   "outputs": [
    {
     "data": {
      "text/plain": [
       "9.99"
      ]
     },
     "execution_count": 20,
     "metadata": {},
     "output_type": "execute_result"
    }
   ],
   "source": [
    "round(df.query('experiment_group  == \"control\"').delivery_time.std(), 2)"
   ]
  },
  {
   "cell_type": "code",
   "execution_count": 25,
   "metadata": {},
   "outputs": [
    {
     "name": "stdout",
     "output_type": "stream",
     "text": [
      "Для того, чтобы проверить нормальность распределения я использую Shapiro-Wilk test.\n",
      "Этот тест показывает, что значения в тестовой группе распределены нормально\n",
      "B контрольной группе распределение является нормальным\n",
      "Стандартное отклонение времени доставки в тесте равно (округлите до сотых) = 9.88\n",
      " Стандартное отклонение времени доставки в контроле равно (округлите до сотых) = 9.99\n"
     ]
    }
   ],
   "source": [
    "print(\"Для того, чтобы проверить нормальность распределения я использую Shapiro-Wilk test.\")\n",
    "print('Этот тест показывает, что значения в тестовой группе распределены нормально')\n",
    "print('B контрольной группе распределение является нормальным')\n",
    "print('Стандартное отклонение времени доставки в тесте равно (округлите до сотых) = 9.88')\n",
    "print(' Стандартное отклонение времени доставки в контроле равно (округлите до сотых) = 9.99')"
   ]
  },
  {
   "cell_type": "markdown",
   "metadata": {},
   "source": [
    "5. \n",
    "Пришло время сравнить средние в тесте и контроле.  \n",
    "Внимание: здесь уже не нужно пользоваться методом .sample() - он нам нужен был только для теста Шапиро-Уилка,   \n",
    "остальные тесты надо проводить на полных данных.   \n"
   ]
  },
  {
   "cell_type": "code",
   "execution_count": 26,
   "metadata": {},
   "outputs": [
    {
     "data": {
      "text/plain": [
       "Ttest_indResult(statistic=-43.03582663183714, pvalue=0.0)"
      ]
     },
     "execution_count": 26,
     "metadata": {},
     "output_type": "execute_result"
    }
   ],
   "source": [
    "scipy.stats.ttest_ind(df.query('experiment_group == \"test\"').delivery_time ,\\\n",
    "                      df.query('experiment_group == \"control\"').delivery_time )"
   ]
  },
  {
   "cell_type": "code",
   "execution_count": 27,
   "metadata": {},
   "outputs": [
    {
     "name": "stdout",
     "output_type": "stream",
     "text": [
      "Для сравнения средних в данных экспериментальных группах я использую Student t-test.\n",
      "Статистика в тесте равна (округлите до целого) -43 p-value <= 0.05\n"
     ]
    }
   ],
   "source": [
    "print('Для сравнения средних в данных экспериментальных группах я использую Student t-test.')\n",
    "print('Статистика в тесте равна (округлите до целого) -43 p-value <= 0.05')"
   ]
  },
  {
   "cell_type": "markdown",
   "metadata": {},
   "source": [
    "6. На сколько процентов изменилось среднее время доставки в тестовой группе (округлите до сотых)? \n"
   ]
  },
  {
   "cell_type": "code",
   "execution_count": 22,
   "metadata": {},
   "outputs": [
    {
     "data": {
      "text/plain": [
       "-13.35"
      ]
     },
     "execution_count": 22,
     "metadata": {},
     "output_type": "execute_result"
    }
   ],
   "source": [
    "test_mean  = df.query('experiment_group == \"test\"').delivery_time.mean()\n",
    "control_mean  = df.query('experiment_group == \"control\"').delivery_time.mean()\n",
    "perc = (test_mean - control_mean)/control_mean * 100\n",
    "round(perc, 2)"
   ]
  },
  {
   "cell_type": "markdown",
   "metadata": {},
   "source": [
    "7. Что в итоге? Катим?   \n",
    "    Да, раскатываем новый алгоритм на всех, так как среднее время доставки статистически значимо изменилось. Среднее время доставки в тесте больше, чем в контроле.\n",
    "\n",
    "    **Да, раскатываем новый алгоритм на всех, так как среднее время доставки статистически значимо изменилось. Среднее время доставки в тесте меньше, чем в контроле.**\n",
    "\n",
    "    Да, раскатываем на всех, новый алгоритм напрямую влияет на скорость доставки.\n",
    "\n",
    "    Не катим, так как среднее время доставки статистически значимо не изменилось."
   ]
  },
  {
   "cell_type": "code",
   "execution_count": null,
   "metadata": {},
   "outputs": [],
   "source": []
  }
 ],
 "metadata": {
  "kernelspec": {
   "display_name": "Python 3",
   "language": "python",
   "name": "python3"
  },
  "language_info": {
   "codemirror_mode": {
    "name": "ipython",
    "version": 3
   },
   "file_extension": ".py",
   "mimetype": "text/x-python",
   "name": "python",
   "nbconvert_exporter": "python",
   "pygments_lexer": "ipython3",
   "version": "3.7.3"
  }
 },
 "nbformat": 4,
 "nbformat_minor": 4
}
