{
 "cells": [
  {
   "cell_type": "markdown",
   "metadata": {},
   "source": [
    "В данном проекте вы поработаете с довольно нетипичными для аналитика данными: gff файлом, который описывает геном мухи (описание формата можно найти здесь). При его выполнении вам может понадобиться часть конспекта про работу со строковыми данными, а именно – про строковые методы серий.\n",
    "\n",
    "Задачи\n",
    "Выделите из колонки attributes значение атрибута Parent. Т.е. если там записано Parent=x, то нам нужен x\n",
    "Выясните, какое из этих значений является самым частым\n",
    "Постройте распределение встречаемости значений в столбце type\n"
   ]
  },
  {
   "cell_type": "code",
   "execution_count": 19,
   "metadata": {},
   "outputs": [
    {
     "data": {
      "text/html": [
       "<div>\n",
       "<style scoped>\n",
       "    .dataframe tbody tr th:only-of-type {\n",
       "        vertical-align: middle;\n",
       "    }\n",
       "\n",
       "    .dataframe tbody tr th {\n",
       "        vertical-align: top;\n",
       "    }\n",
       "\n",
       "    .dataframe thead th {\n",
       "        text-align: right;\n",
       "    }\n",
       "</style>\n",
       "<table border=\"1\" class=\"dataframe\">\n",
       "  <thead>\n",
       "    <tr style=\"text-align: right;\">\n",
       "      <th></th>\n",
       "      <th>seq_id</th>\n",
       "      <th>source</th>\n",
       "      <th>type</th>\n",
       "      <th>start</th>\n",
       "      <th>end</th>\n",
       "      <th>score</th>\n",
       "      <th>strand</th>\n",
       "      <th>phase</th>\n",
       "      <th>attributes</th>\n",
       "    </tr>\n",
       "  </thead>\n",
       "  <tbody>\n",
       "    <tr>\n",
       "      <th>0</th>\n",
       "      <td>chr17</td>\n",
       "      <td>RefSeq</td>\n",
       "      <td>exon</td>\n",
       "      <td>6811330</td>\n",
       "      <td>6811453</td>\n",
       "      <td>.</td>\n",
       "      <td>+</td>\n",
       "      <td>.</td>\n",
       "      <td>Parent=XM_001475631.1</td>\n",
       "    </tr>\n",
       "    <tr>\n",
       "      <th>1</th>\n",
       "      <td>chr17</td>\n",
       "      <td>RefSeq</td>\n",
       "      <td>CDS</td>\n",
       "      <td>6808204</td>\n",
       "      <td>6808245</td>\n",
       "      <td>.</td>\n",
       "      <td>+</td>\n",
       "      <td>0</td>\n",
       "      <td>Name=CDS:NC_000083.5:LOC100040603;Parent=XM_00...</td>\n",
       "    </tr>\n",
       "    <tr>\n",
       "      <th>2</th>\n",
       "      <td>chr17</td>\n",
       "      <td>RefSeq</td>\n",
       "      <td>CDS</td>\n",
       "      <td>6811792</td>\n",
       "      <td>6811869</td>\n",
       "      <td>.</td>\n",
       "      <td>+</td>\n",
       "      <td>2</td>\n",
       "      <td>Name=CDS:NC_000083.5:LOC100040603;Parent=XM_00...</td>\n",
       "    </tr>\n",
       "    <tr>\n",
       "      <th>3</th>\n",
       "      <td>chr17</td>\n",
       "      <td>RefSeq</td>\n",
       "      <td>exon</td>\n",
       "      <td>6806513</td>\n",
       "      <td>6806553</td>\n",
       "      <td>.</td>\n",
       "      <td>+</td>\n",
       "      <td>.</td>\n",
       "      <td>Parent=XM_001475631.1</td>\n",
       "    </tr>\n",
       "    <tr>\n",
       "      <th>4</th>\n",
       "      <td>chr17</td>\n",
       "      <td>RefSeq</td>\n",
       "      <td>five_prime_UTR</td>\n",
       "      <td>6806513</td>\n",
       "      <td>6806526</td>\n",
       "      <td>.</td>\n",
       "      <td>+</td>\n",
       "      <td>.</td>\n",
       "      <td>Parent=XM_001475631.1</td>\n",
       "    </tr>\n",
       "  </tbody>\n",
       "</table>\n",
       "</div>"
      ],
      "text/plain": [
       "  seq_id  source            type    start      end score strand phase  \\\n",
       "0  chr17  RefSeq            exon  6811330  6811453     .      +     .   \n",
       "1  chr17  RefSeq             CDS  6808204  6808245     .      +     0   \n",
       "2  chr17  RefSeq             CDS  6811792  6811869     .      +     2   \n",
       "3  chr17  RefSeq            exon  6806513  6806553     .      +     .   \n",
       "4  chr17  RefSeq  five_prime_UTR  6806513  6806526     .      +     .   \n",
       "\n",
       "                                          attributes  \n",
       "0                              Parent=XM_001475631.1  \n",
       "1  Name=CDS:NC_000083.5:LOC100040603;Parent=XM_00...  \n",
       "2  Name=CDS:NC_000083.5:LOC100040603;Parent=XM_00...  \n",
       "3                              Parent=XM_001475631.1  \n",
       "4                              Parent=XM_001475631.1  "
      ]
     },
     "execution_count": 19,
     "metadata": {},
     "output_type": "execute_result"
    }
   ],
   "source": [
    "import pandas as pd\n",
    "url = 'https://stepik.org/media/attachments/course/72204/gff.tsv'\n",
    "gen_data = pd.read_csv(url, sep='\\t')\n",
    "gen_data.head()"
   ]
  },
  {
   "cell_type": "code",
   "execution_count": 20,
   "metadata": {},
   "outputs": [
    {
     "data": {
      "text/html": [
       "<div>\n",
       "<style scoped>\n",
       "    .dataframe tbody tr th:only-of-type {\n",
       "        vertical-align: middle;\n",
       "    }\n",
       "\n",
       "    .dataframe tbody tr th {\n",
       "        vertical-align: top;\n",
       "    }\n",
       "\n",
       "    .dataframe thead th {\n",
       "        text-align: right;\n",
       "    }\n",
       "</style>\n",
       "<table border=\"1\" class=\"dataframe\">\n",
       "  <thead>\n",
       "    <tr style=\"text-align: right;\">\n",
       "      <th></th>\n",
       "      <th>seq_id</th>\n",
       "      <th>source</th>\n",
       "      <th>type</th>\n",
       "      <th>start</th>\n",
       "      <th>end</th>\n",
       "      <th>score</th>\n",
       "      <th>strand</th>\n",
       "      <th>phase</th>\n",
       "      <th>attributes</th>\n",
       "    </tr>\n",
       "  </thead>\n",
       "  <tbody>\n",
       "    <tr>\n",
       "      <th>0</th>\n",
       "      <td>chr17</td>\n",
       "      <td>RefSeq</td>\n",
       "      <td>exon</td>\n",
       "      <td>6811330</td>\n",
       "      <td>6811453</td>\n",
       "      <td>.</td>\n",
       "      <td>+</td>\n",
       "      <td>.</td>\n",
       "      <td>XM_001475631.1</td>\n",
       "    </tr>\n",
       "    <tr>\n",
       "      <th>1</th>\n",
       "      <td>chr17</td>\n",
       "      <td>RefSeq</td>\n",
       "      <td>CDS</td>\n",
       "      <td>6808204</td>\n",
       "      <td>6808245</td>\n",
       "      <td>.</td>\n",
       "      <td>+</td>\n",
       "      <td>0</td>\n",
       "      <td>XM_001475631.1</td>\n",
       "    </tr>\n",
       "    <tr>\n",
       "      <th>2</th>\n",
       "      <td>chr17</td>\n",
       "      <td>RefSeq</td>\n",
       "      <td>CDS</td>\n",
       "      <td>6811792</td>\n",
       "      <td>6811869</td>\n",
       "      <td>.</td>\n",
       "      <td>+</td>\n",
       "      <td>2</td>\n",
       "      <td>XM_001475631.1</td>\n",
       "    </tr>\n",
       "    <tr>\n",
       "      <th>3</th>\n",
       "      <td>chr17</td>\n",
       "      <td>RefSeq</td>\n",
       "      <td>exon</td>\n",
       "      <td>6806513</td>\n",
       "      <td>6806553</td>\n",
       "      <td>.</td>\n",
       "      <td>+</td>\n",
       "      <td>.</td>\n",
       "      <td>XM_001475631.1</td>\n",
       "    </tr>\n",
       "    <tr>\n",
       "      <th>4</th>\n",
       "      <td>chr17</td>\n",
       "      <td>RefSeq</td>\n",
       "      <td>five_prime_UTR</td>\n",
       "      <td>6806513</td>\n",
       "      <td>6806526</td>\n",
       "      <td>.</td>\n",
       "      <td>+</td>\n",
       "      <td>.</td>\n",
       "      <td>XM_001475631.1</td>\n",
       "    </tr>\n",
       "  </tbody>\n",
       "</table>\n",
       "</div>"
      ],
      "text/plain": [
       "  seq_id  source            type    start      end score strand phase  \\\n",
       "0  chr17  RefSeq            exon  6811330  6811453     .      +     .   \n",
       "1  chr17  RefSeq             CDS  6808204  6808245     .      +     0   \n",
       "2  chr17  RefSeq             CDS  6811792  6811869     .      +     2   \n",
       "3  chr17  RefSeq            exon  6806513  6806553     .      +     .   \n",
       "4  chr17  RefSeq  five_prime_UTR  6806513  6806526     .      +     .   \n",
       "\n",
       "       attributes  \n",
       "0  XM_001475631.1  \n",
       "1  XM_001475631.1  \n",
       "2  XM_001475631.1  \n",
       "3  XM_001475631.1  \n",
       "4  XM_001475631.1  "
      ]
     },
     "execution_count": 20,
     "metadata": {},
     "output_type": "execute_result"
    }
   ],
   "source": [
    "gen_data['attributes'] = gen_data.filter(['attributes']).applymap(lambda x: x[x.find('Parent='):])\n",
    "gen_data['attributes'] = gen_data['attributes'].str.replace('Parent=', '', regex=True)\n",
    "gen_data['attributes'] = gen_data['attributes'].str.replace(',', '', regex=True)\n",
    "gen_data.head()"
   ]
  },
  {
   "cell_type": "markdown",
   "metadata": {},
   "source": [
    "1. Какое значение атрибута Parent самое частое?"
   ]
  },
  {
   "cell_type": "code",
   "execution_count": 22,
   "metadata": {},
   "outputs": [
    {
     "data": {
      "text/plain": [
       "XM_001475631.1              479\n",
       "NC_000083.5:LOC100040603     33\n",
       "Name: attributes, dtype: int64"
      ]
     },
     "execution_count": 22,
     "metadata": {},
     "output_type": "execute_result"
    }
   ],
   "source": [
    "gen_data.attributes.value_counts()"
   ]
  },
  {
   "cell_type": "markdown",
   "metadata": {},
   "source": [
    "2. Какое самое частое значение в колонке type?"
   ]
  },
  {
   "cell_type": "code",
   "execution_count": 21,
   "metadata": {},
   "outputs": [
    {
     "data": {
      "text/plain": [
       "exon               201\n",
       "CDS                170\n",
       "five_prime_UTR      47\n",
       "mRNA                33\n",
       "three_prime_UTR     32\n",
       "protein             29\n",
       "Name: type, dtype: int64"
      ]
     },
     "execution_count": 21,
     "metadata": {},
     "output_type": "execute_result"
    }
   ],
   "source": [
    "gen_data.type.value_counts()"
   ]
  }
 ],
 "metadata": {
  "kernelspec": {
   "display_name": "Python 3",
   "language": "python",
   "name": "python3"
  },
  "language_info": {
   "codemirror_mode": {
    "name": "ipython",
    "version": 3
   },
   "file_extension": ".py",
   "mimetype": "text/x-python",
   "name": "python",
   "nbconvert_exporter": "python",
   "pygments_lexer": "ipython3",
   "version": "3.7.3"
  }
 },
 "nbformat": 4,
 "nbformat_minor": 4
}
