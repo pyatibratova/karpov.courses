{
 "cells": [
  {
   "cell_type": "markdown",
   "metadata": {},
   "source": [
    "В последнем дополнительном задании вам предстоит не проанализировать сами данные, а привести их в порядок!\n",
    "\n",
    "Ваш друг из соседнего отдела прислал вам файл, \n",
    "где он собирал информацию о сделках с компаниями в течение нескольких месяцев. К\n",
    "сожалению, друг был не особо аккуратен, и не знал, какой ужасный формат он выбрал... \n",
    "Ваша задача заключается в следующем: нужно собрать все данные в нормальный датафрэйм \n",
    "Данные находятся в файле tables.xlsx,  представлены набором таблиц в одном эксельном листе.\n",
    "https://stepik.org/media/attachments/course/72204/tables.xlsx\n",
    "\n",
    "Для очистки данных могут понадобиться `isna`, `loc`, `pd.concat`, `astype` и даже цикл с `try`.\n",
    "А вообще задание не самое простое, да. \n",
    "\n",
    "Попробуйте вычленить из датафрэйма данные и объединить это в финальный датафрэйм\n"
   ]
  },
  {
   "cell_type": "code",
   "execution_count": 4,
   "metadata": {},
   "outputs": [],
   "source": [
    "import pandas as pd\n",
    "from collections import defaultdict\n",
    "df  = pd.read_excel('https://stepik.org/media/attachments/course/72204/tables.xlsx').fillna(0)"
   ]
  },
  {
   "cell_type": "code",
   "execution_count": 7,
   "metadata": {},
   "outputs": [
    {
     "data": {
      "text/html": [
       "<div>\n",
       "<style scoped>\n",
       "    .dataframe tbody tr th:only-of-type {\n",
       "        vertical-align: middle;\n",
       "    }\n",
       "\n",
       "    .dataframe tbody tr th {\n",
       "        vertical-align: top;\n",
       "    }\n",
       "\n",
       "    .dataframe thead th {\n",
       "        text-align: right;\n",
       "    }\n",
       "</style>\n",
       "<table border=\"1\" class=\"dataframe\">\n",
       "  <thead>\n",
       "    <tr style=\"text-align: right;\">\n",
       "      <th></th>\n",
       "      <th>company41</th>\n",
       "      <th>company51</th>\n",
       "      <th>company50</th>\n",
       "      <th>company76</th>\n",
       "      <th>company47</th>\n",
       "      <th>company27</th>\n",
       "      <th>company48</th>\n",
       "    </tr>\n",
       "  </thead>\n",
       "  <tbody>\n",
       "    <tr>\n",
       "      <th>0</th>\n",
       "      <td>16.0</td>\n",
       "      <td>151.0</td>\n",
       "      <td>217.0</td>\n",
       "      <td>144.0</td>\n",
       "      <td>993.0</td>\n",
       "      <td>633.0</td>\n",
       "      <td>747.0</td>\n",
       "    </tr>\n",
       "    <tr>\n",
       "      <th>1</th>\n",
       "      <td>819.0</td>\n",
       "      <td>43.0</td>\n",
       "      <td>660.0</td>\n",
       "      <td>220.0</td>\n",
       "      <td>312.0</td>\n",
       "      <td>936.0</td>\n",
       "      <td>983.0</td>\n",
       "    </tr>\n",
       "    <tr>\n",
       "      <th>2</th>\n",
       "      <td>227.0</td>\n",
       "      <td>783.0</td>\n",
       "      <td>589.0</td>\n",
       "      <td>566.0</td>\n",
       "      <td>516.0</td>\n",
       "      <td>782.0</td>\n",
       "      <td>736.0</td>\n",
       "    </tr>\n",
       "    <tr>\n",
       "      <th>3</th>\n",
       "      <td>625.0</td>\n",
       "      <td>858.0</td>\n",
       "      <td>228.0</td>\n",
       "      <td>74.0</td>\n",
       "      <td>832.0</td>\n",
       "      <td>197.0</td>\n",
       "      <td>116.0</td>\n",
       "    </tr>\n",
       "    <tr>\n",
       "      <th>4</th>\n",
       "      <td>580.0</td>\n",
       "      <td>198.0</td>\n",
       "      <td>968.0</td>\n",
       "      <td>575.0</td>\n",
       "      <td>788.0</td>\n",
       "      <td>554.0</td>\n",
       "      <td>479.0</td>\n",
       "    </tr>\n",
       "  </tbody>\n",
       "</table>\n",
       "</div>"
      ],
      "text/plain": [
       "   company41  company51  company50  company76  company47  company27  company48\n",
       "0       16.0      151.0      217.0      144.0      993.0      633.0      747.0\n",
       "1      819.0       43.0      660.0      220.0      312.0      936.0      983.0\n",
       "2      227.0      783.0      589.0      566.0      516.0      782.0      736.0\n",
       "3      625.0      858.0      228.0       74.0      832.0      197.0      116.0\n",
       "4      580.0      198.0      968.0      575.0      788.0      554.0      479.0"
      ]
     },
     "execution_count": 7,
     "metadata": {},
     "output_type": "execute_result"
    }
   ],
   "source": [
    "tt = df.T.reset_index().values.tolist()\n",
    "list_excel = list()\n",
    "for row in tt:\n",
    "    for elem in row:\n",
    "        if( elem != 0):\n",
    "            list_excel.append(elem)\n",
    "del list_excel[0]\n",
    "\n",
    "d = defaultdict(list)\n",
    "key = 'company41'\n",
    "for i in list_excel:\n",
    "    if type(i) == int:\n",
    "        d[key].append(i)\n",
    "    else:\n",
    "        key = i\n",
    "final_table = pd.DataFrame.from_dict(d, orient='index').transpose().fillna(0)\n",
    "final_table.head()"
   ]
  },
  {
   "cell_type": "code",
   "execution_count": 8,
   "metadata": {},
   "outputs": [
    {
     "data": {
      "text/plain": [
       "14918.0"
      ]
     },
     "execution_count": 8,
     "metadata": {},
     "output_type": "execute_result"
    }
   ],
   "source": [
    "final_table.company41.sum()"
   ]
  }
 ],
 "metadata": {
  "kernelspec": {
   "display_name": "Python 3",
   "language": "python",
   "name": "python3"
  },
  "language_info": {
   "codemirror_mode": {
    "name": "ipython",
    "version": 3
   },
   "file_extension": ".py",
   "mimetype": "text/x-python",
   "name": "python",
   "nbconvert_exporter": "python",
   "pygments_lexer": "ipython3",
   "version": "3.7.3"
  }
 },
 "nbformat": 4,
 "nbformat_minor": 4
}
